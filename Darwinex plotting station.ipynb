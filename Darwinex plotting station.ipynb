{
 "cells": [
  {
   "cell_type": "code",
   "execution_count": 1,
   "metadata": {},
   "outputs": [
    {
     "data": {
      "text/html": [
       "\n",
       "    <div class=\"bk-root\">\n",
       "        <a href=\"https://bokeh.pydata.org\" target=\"_blank\" class=\"bk-logo bk-logo-small bk-logo-notebook\"></a>\n",
       "        <span id=\"1001\">Loading BokehJS ...</span>\n",
       "    </div>"
      ]
     },
     "metadata": {},
     "output_type": "execute_result"
    },
    {
     "data": {},
     "metadata": {},
     "output_type": "display_data"
    }
   ],
   "source": [
    "from influxdb import InfluxDBClient\n",
    "import pandas as pd\n",
    "from bokeh.models import HoverTool, ColumnDataSource, BoxZoomTool\n",
    "from bokeh.models.ranges import Range1d\n",
    "from bokeh.models.axes import LinearAxis\n",
    "from bokeh.layouts import gridplot\n",
    "from bokeh.plotting import figure, show, output_file\n",
    "from bokeh.io import output_notebook\n",
    "import talib\n",
    "import seaborn as sns\n",
    "import matplotlib.pyplot as plt\n",
    "from datetime import datetime as dt\n",
    "output_notebook()\n",
    "%matplotlib inline\n",
    "sns.set()"
   ]
  },
  {
   "cell_type": "code",
   "execution_count": 2,
   "metadata": {},
   "outputs": [
    {
     "data": {
      "text/html": [
       "<div>\n",
       "<style scoped>\n",
       "    .dataframe tbody tr th:only-of-type {\n",
       "        vertical-align: middle;\n",
       "    }\n",
       "\n",
       "    .dataframe tbody tr th {\n",
       "        vertical-align: top;\n",
       "    }\n",
       "\n",
       "    .dataframe thead th {\n",
       "        text-align: right;\n",
       "    }\n",
       "</style>\n",
       "<table border=\"1\" class=\"dataframe\">\n",
       "  <thead>\n",
       "    <tr style=\"text-align: right;\">\n",
       "      <th></th>\n",
       "      <th>spread</th>\n",
       "    </tr>\n",
       "    <tr>\n",
       "      <th>time</th>\n",
       "      <th></th>\n",
       "    </tr>\n",
       "  </thead>\n",
       "  <tbody>\n",
       "    <tr>\n",
       "      <th>2018-12-04 09:00:00</th>\n",
       "      <td>0.00063</td>\n",
       "    </tr>\n",
       "    <tr>\n",
       "      <th>2018-12-04 09:01:00</th>\n",
       "      <td>0.00034</td>\n",
       "    </tr>\n",
       "    <tr>\n",
       "      <th>2018-12-04 09:02:00</th>\n",
       "      <td>0.00025</td>\n",
       "    </tr>\n",
       "    <tr>\n",
       "      <th>2018-12-04 09:03:00</th>\n",
       "      <td>0.00028</td>\n",
       "    </tr>\n",
       "    <tr>\n",
       "      <th>2018-12-04 09:04:00</th>\n",
       "      <td>0.00032</td>\n",
       "    </tr>\n",
       "  </tbody>\n",
       "</table>\n",
       "</div>"
      ],
      "text/plain": [
       "                      spread\n",
       "time                        \n",
       "2018-12-04 09:00:00  0.00063\n",
       "2018-12-04 09:01:00  0.00034\n",
       "2018-12-04 09:02:00  0.00025\n",
       "2018-12-04 09:03:00  0.00028\n",
       "2018-12-04 09:04:00  0.00032"
      ]
     },
     "execution_count": 2,
     "metadata": {},
     "output_type": "execute_result"
    }
   ],
   "source": [
    "db = InfluxDBClient('104.248.41.39', 8086, 'admin', 'jndm4jr5jndm4jr6', 'darwinex')\n",
    "#################\n",
    "ticker = 'EURUSD'\n",
    "start = dt(2018,12,4,9,0)\n",
    "end = dt(2018,12,5,9,0)\n",
    "start_epoch = int(float(start.timestamp())) * 1000 * 1000 * 1000\n",
    "end_epoch = int(end.timestamp()) * 1000 * 1000 * 1000\n",
    "freq='1m'\n",
    "query = \"Select spread(price) from {} where time > {} and time < {} group by time({})\".format(ticker, str(start_epoch), str(end_epoch), freq)\n",
    "#################\n",
    "\n",
    "def influx_to_pandas(result):\n",
    "    df = pd.DataFrame(result, )\n",
    "    df.index = pd.to_datetime(df['time'])\n",
    "  \n",
    "    return df.drop(['time'], axis=1)\n",
    "\n",
    "result = list(db.query(query))[0]\n",
    "df = influx_to_pandas(result).dropna()\n",
    "\n",
    "df.head()"
   ]
  },
  {
   "cell_type": "code",
   "execution_count": 3,
   "metadata": {},
   "outputs": [
    {
     "data": {
      "text/plain": [
       "<matplotlib.axes._subplots.AxesSubplot at 0x200c9e3aba8>"
      ]
     },
     "execution_count": 3,
     "metadata": {},
     "output_type": "execute_result"
    },
    {
     "data": {
      "text/plain": [
       "<Figure size 1080x360 with 0 Axes>"
      ]
     },
     "metadata": {},
     "output_type": "display_data"
    },
    {
     "data": {
      "image/png": "[encoded data removed]",
      "text/plain": [
       "<Figure size 432x288 with 1 Axes>"
      ]
     },
     "metadata": {},
     "output_type": "display_data"
    }
   ],
   "source": [
    "plt.figure(figsize=(15,5))\n",
    "df.plot()\n",
    "\n"
   ]
  },
  {
   "cell_type": "code",
   "execution_count": 19,
   "metadata": {},
   "outputs": [
    {
     "name": "stdout",
     "output_type": "stream",
     "text": [
      "                      spread\n",
      "time                        \n",
      "2018-12-04 09:00:00  0.00010\n",
      "2018-12-04 09:01:00  0.00009\n",
      "2018-12-04 09:02:00  0.00008\n",
      "2018-12-04 09:03:00  0.00010\n",
      "2018-12-04 09:04:00  0.00010\n"
     ]
    }
   ],
   "source": [
    "db = InfluxDBClient('104.248.41.39', 8086, 'admin', 'jndm4jr5jndm4jr6', 'darwinex')\n",
    "#################\n",
    "ticker = 'EURCHF'\n",
    "start = dt(2018,12,4,9,0)\n",
    "end = dt(2018,12,5,9,0)\n",
    "start_epoch = int(float(start.timestamp())) * 1000 * 1000 * 1000\n",
    "end_epoch = int(end.timestamp()) * 1000 * 1000 * 1000\n",
    "freq='1m'\n",
    "queryask = \"Select last(price) from {} where time > {} and time < {} and quote = 'ask' group by time({})\".format(ticker, str(start_epoch), str(end_epoch), freq)\n",
    "querybid = \"Select last(price) from {} where time > {} and time < {} and quote = 'bid' group by time({})\".format(ticker, str(start_epoch), str(end_epoch), freq)\n",
    "\n",
    "#################\n",
    "\n",
    "def influx_to_pandas(result):\n",
    "    df = pd.DataFrame(result, )\n",
    "    df.index = pd.to_datetime(df['time'])\n",
    "  \n",
    "    return df.drop(['time'], axis=1)\n",
    "\n",
    "result = list(db.query(queryask))[0]\n",
    "dfask = influx_to_pandas(result)\n",
    "\n",
    "result = list(db.query(querybid))[0]\n",
    "dfbid = influx_to_pandas(result)\n",
    "spread = pd.DataFrame()\n",
    "spread['spread'] = dfask['last'] - dfbid['last']\n",
    "print(spread.head())"
   ]
  },
  {
   "cell_type": "code",
   "execution_count": 20,
   "metadata": {},
   "outputs": [
    {
     "data": {
      "text/plain": [
       "<matplotlib.axes._subplots.AxesSubplot at 0x200caf2df60>"
      ]
     },
     "execution_count": 20,
     "metadata": {},
     "output_type": "execute_result"
    },
    {
     "data": {
      "text/plain": [
       "<Figure size 1080x3600 with 0 Axes>"
      ]
     },
     "metadata": {},
     "output_type": "display_data"
    },
    {
     "data": {
      "image/png": "[encoded data removed]",
      "text/plain": [
       "<Figure size 432x288 with 1 Axes>"
      ]
     },
     "metadata": {},
     "output_type": "display_data"
    }
   ],
   "source": [
    "plt.figure(figsize=(15,50))\n",
    "spread.plot()\n"
   ]
  },
  {
   "cell_type": "code",
   "execution_count": 6,
   "metadata": {},
   "outputs": [
    {
     "data": {
      "text/html": [
       "\n",
       "\n",
       "\n",
       "\n",
       "\n",
       "\n",
       "  <div class=\"bk-root\" id=\"bd093ebd-c067-44b6-b3e0-cc6bf80f7ba6\"></div>\n"
      ]
     },
     "metadata": {},
     "output_type": "execute_result"
    },
    {
     "data": {},
     "metadata": {
      "application/vnd.bokehjs_exec.v0+json": {
       "id": "1003"
      }
     },
     "output_type": "display_data"
    }
   ],
   "source": [
    "tools = ['reset', 'box_select', 'pan', 'zoom_out', 'wheel_zoom']\n",
    "\n",
    "p1 = figure(tools=tools, x_axis_type=\"datetime\", title=ticker, plot_width=700)\n",
    "\n",
    "p1.line(df.index.values, df[df.columns[0]].values, color='green', legend=df.columns[0])\n",
    "show(p1)"
   ]
  },
  {
   "cell_type": "code",
   "execution_count": 7,
   "metadata": {},
   "outputs": [
    {
     "ename": "NameError",
     "evalue": "name 'S' is not defined",
     "traceback": [
      "\u001b[1;31m---------------------------------------------------------------------------\u001b[0m",
      "\u001b[1;31mNameError\u001b[0m                                 Traceback (most recent call last)",
      "\u001b[1;32m<ipython-input-7-2585d491b11a>\u001b[0m in \u001b[0;36m<module>\u001b[1;34m()\u001b[0m\n\u001b[0;32m      1\u001b[0m \u001b[0mtime\u001b[0m \u001b[1;33m=\u001b[0m \u001b[1;33m[\u001b[0m\u001b[1;36m1.5\u001b[0m\u001b[1;33m,\u001b[0m \u001b[1;36m1\u001b[0m\u001b[1;33m,\u001b[0m \u001b[1;36m0.5\u001b[0m\u001b[1;33m,\u001b[0m \u001b[1;36m0.01\u001b[0m\u001b[1;33m]\u001b[0m\u001b[1;33m\u001b[0m\u001b[0m\n\u001b[0;32m      2\u001b[0m \u001b[0mfig\u001b[0m\u001b[1;33m,\u001b[0m \u001b[0max\u001b[0m \u001b[1;33m=\u001b[0m \u001b[0mplt\u001b[0m\u001b[1;33m.\u001b[0m\u001b[0msubplots\u001b[0m\u001b[1;33m(\u001b[0m\u001b[1;36m1\u001b[0m\u001b[1;33m,\u001b[0m \u001b[0mlen\u001b[0m\u001b[1;33m(\u001b[0m\u001b[0mtime\u001b[0m\u001b[1;33m)\u001b[0m\u001b[1;33m,\u001b[0m \u001b[0mfigsize\u001b[0m\u001b[1;33m=\u001b[0m\u001b[1;33m(\u001b[0m\u001b[1;36m20\u001b[0m\u001b[1;33m,\u001b[0m\u001b[1;36m5\u001b[0m\u001b[1;33m)\u001b[0m\u001b[1;33m)\u001b[0m\u001b[1;33m\u001b[0m\u001b[0m\n\u001b[1;32m----> 3\u001b[1;33m \u001b[0mintrinsicValue\u001b[0m \u001b[1;33m=\u001b[0m \u001b[1;33m[\u001b[0m\u001b[0mmax\u001b[0m\u001b[1;33m(\u001b[0m\u001b[0ms\u001b[0m \u001b[1;33m-\u001b[0m \u001b[0mK\u001b[0m\u001b[1;33m,\u001b[0m \u001b[1;36m0\u001b[0m\u001b[1;33m)\u001b[0m \u001b[1;32mfor\u001b[0m \u001b[0ms\u001b[0m \u001b[1;32min\u001b[0m \u001b[0mS\u001b[0m\u001b[1;33m]\u001b[0m\u001b[1;33m\u001b[0m\u001b[0m\n\u001b[0m\u001b[0;32m      4\u001b[0m \u001b[1;32mfor\u001b[0m \u001b[0mi\u001b[0m\u001b[1;33m,\u001b[0m \u001b[0mT\u001b[0m \u001b[1;32min\u001b[0m \u001b[0menumerate\u001b[0m\u001b[1;33m(\u001b[0m\u001b[0mtime\u001b[0m\u001b[1;33m)\u001b[0m\u001b[1;33m:\u001b[0m\u001b[1;33m\u001b[0m\u001b[0m\n\u001b[0;32m      5\u001b[0m     \u001b[0moptionValue\u001b[0m \u001b[1;33m=\u001b[0m \u001b[0mlist\u001b[0m\u001b[1;33m(\u001b[0m\u001b[0mmap\u001b[0m\u001b[1;33m(\u001b[0m\u001b[0mop\u001b[0m\u001b[1;33m,\u001b[0m \u001b[0mS\u001b[0m\u001b[1;33m)\u001b[0m\u001b[1;33m)\u001b[0m\u001b[1;33m\u001b[0m\u001b[0m\n",
      "\u001b[1;31mNameError\u001b[0m: name 'S' is not defined"
     ],
     "output_type": "error"
    },
    {
     "data": {
      "image/png": "[encoded data removed]",
      "text/plain": [
       "<Figure size 1440x360 with 4 Axes>"
      ]
     },
     "metadata": {},
     "output_type": "display_data"
    }
   ],
   "source": [
    "time = [1.5, 1, 0.5, 0.01]\n",
    "fig, ax = plt.subplots(1, len(time), figsize=(20,5))\n",
    "intrinsicValue = [max(s - K, 0) for s in S]\n",
    "for i, T in enumerate(time):\n",
    "    optionValue = list(map(op, S))\n",
    "    ax[i].plot(S, optionValue, label=\"Option Value\")\n",
    "    ax[i].plot(S, intrinsicValue, label=\"Instrinsic Value\")\n",
    "    ax[i].fill_between(S, intrinsicValue, optionValue, alpha=0.2, label=\"Time Value\")\n",
    "    ax[i].set_title('Time to maturity {}'.format(T))\n",
    "    ax[i].legend()"
   ]
  },
  {
   "cell_type": "code",
   "execution_count": null,
   "metadata": {},
   "outputs": [],
   "source": [
    "plt.figure(figsize=(10,6))\n",
    "S = np.linspace(70, 120)\n",
    "op = lambda S: bs(S, K, vol, r, T, True)\n",
    "\n",
    "time = np.linspace(1, 0.000001, 6)\n",
    "for T in time:\n",
    "    optionValue = list(map(op, S))\n",
    "    plt.plot(S, optionValue, label=\"t={:.2f}\".format(T))\n",
    "plt.legend();"
   ]
  }
 ],
 "metadata": {
  "kernelspec": {
   "display_name": "Python 3",
   "language": "python",
   "name": "python3"
  },
  "language_info": {
   "codemirror_mode": {
    "name": "ipython",
    "version": 3
   },
   "file_extension": ".py",
   "mimetype": "text/x-python",
   "name": "python",
   "nbconvert_exporter": "python",
   "pygments_lexer": "ipython3",
   "version": "3.6.5"
  }
 },
 "nbformat": 4,
 "nbformat_minor": 2
}

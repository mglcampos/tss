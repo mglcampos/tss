{
 "cells": [
  {
   "cell_type": "code",
   "execution_count": 1,
   "metadata": {},
   "outputs": [
    {
     "data": {
      "text/html": [
       "\n",
       "    <div class=\"bk-root\">\n",
       "        <a href=\"https://bokeh.pydata.org\" target=\"_blank\" class=\"bk-logo bk-logo-small bk-logo-notebook\"></a>\n",
       "        <span id=\"1001\">Loading BokehJS ...</span>\n",
       "    </div>"
      ]
     },
     "metadata": {},
     "output_type": "display_data"
    },
    {
     "data": {
      "application/javascript": [
       "\n",
       "(function(root) {\n",
       "  function now() {\n",
       "    return new Date();\n",
       "  }\n",
       "\n",
       "  var force = true;\n",
       "\n",
       "  if (typeof (root._bokeh_onload_callbacks) === \"undefined\" || force === true) {\n",
       "    root._bokeh_onload_callbacks = [];\n",
       "    root._bokeh_is_loading = undefined;\n",
       "  }\n",
       "\n",
       "  var JS_MIME_TYPE = 'application/javascript';\n",
       "  var HTML_MIME_TYPE = 'text/html';\n",
       "  var EXEC_MIME_TYPE = 'application/vnd.bokehjs_exec.v0+json';\n",
       "  var CLASS_NAME = 'output_bokeh rendered_html';\n",
       "\n",
       "  /**\n",
       "   * Render data to the DOM node\n",
       "   */\n",
       "  function render(props, node) {\n",
       "    var script = document.createElement(\"script\");\n",
       "    node.appendChild(script);\n",
       "  }\n",
       "\n",
       "  /**\n",
       "   * Handle when an output is cleared or removed\n",
       "   */\n",
       "  function handleClearOutput(event, handle) {\n",
       "    var cell = handle.cell;\n",
       "\n",
       "    var id = cell.output_area._bokeh_element_id;\n",
       "    var server_id = cell.output_area._bokeh_server_id;\n",
       "    // Clean up Bokeh references\n",
       "    if (id != null && id in Bokeh.index) {\n",
       "      Bokeh.index[id].model.document.clear();\n",
       "      delete Bokeh.index[id];\n",
       "    }\n",
       "\n",
       "    if (server_id !== undefined) {\n",
       "      // Clean up Bokeh references\n",
       "      var cmd = \"from bokeh.io.state import curstate; print(curstate().uuid_to_server['\" + server_id + \"'].get_sessions()[0].document.roots[0]._id)\";\n",
       "      cell.notebook.kernel.execute(cmd, {\n",
       "        iopub: {\n",
       "          output: function(msg) {\n",
       "            var id = msg.content.text.trim();\n",
       "            if (id in Bokeh.index) {\n",
       "              Bokeh.index[id].model.document.clear();\n",
       "              delete Bokeh.index[id];\n",
       "            }\n",
       "          }\n",
       "        }\n",
       "      });\n",
       "      // Destroy server and session\n",
       "      var cmd = \"import bokeh.io.notebook as ion; ion.destroy_server('\" + server_id + \"')\";\n",
       "      cell.notebook.kernel.execute(cmd);\n",
       "    }\n",
       "  }\n",
       "\n",
       "  /**\n",
       "   * Handle when a new output is added\n",
       "   */\n",
       "  function handleAddOutput(event, handle) {\n",
       "    var output_area = handle.output_area;\n",
       "    var output = handle.output;\n",
       "\n",
       "    // limit handleAddOutput to display_data with EXEC_MIME_TYPE content only\n",
       "    if ((output.output_type != \"display_data\") || (!output.data.hasOwnProperty(EXEC_MIME_TYPE))) {\n",
       "      return\n",
       "    }\n",
       "\n",
       "    var toinsert = output_area.element.find(\".\" + CLASS_NAME.split(' ')[0]);\n",
       "\n",
       "    if (output.metadata[EXEC_MIME_TYPE][\"id\"] !== undefined) {\n",
       "      toinsert[toinsert.length - 1].firstChild.textContent = output.data[JS_MIME_TYPE];\n",
       "      // store reference to embed id on output_area\n",
       "      output_area._bokeh_element_id = output.metadata[EXEC_MIME_TYPE][\"id\"];\n",
       "    }\n",
       "    if (output.metadata[EXEC_MIME_TYPE][\"server_id\"] !== undefined) {\n",
       "      var bk_div = document.createElement(\"div\");\n",
       "      bk_div.innerHTML = output.data[HTML_MIME_TYPE];\n",
       "      var script_attrs = bk_div.children[0].attributes;\n",
       "      for (var i = 0; i < script_attrs.length; i++) {\n",
       "        toinsert[toinsert.length - 1].firstChild.setAttribute(script_attrs[i].name, script_attrs[i].value);\n",
       "      }\n",
       "      // store reference to server id on output_area\n",
       "      output_area._bokeh_server_id = output.metadata[EXEC_MIME_TYPE][\"server_id\"];\n",
       "    }\n",
       "  }\n",
       "\n",
       "  function register_renderer(events, OutputArea) {\n",
       "\n",
       "    function append_mime(data, metadata, element) {\n",
       "      // create a DOM node to render to\n",
       "      var toinsert = this.create_output_subarea(\n",
       "        metadata,\n",
       "        CLASS_NAME,\n",
       "        EXEC_MIME_TYPE\n",
       "      );\n",
       "      this.keyboard_manager.register_events(toinsert);\n",
       "      // Render to node\n",
       "      var props = {data: data, metadata: metadata[EXEC_MIME_TYPE]};\n",
       "      render(props, toinsert[toinsert.length - 1]);\n",
       "      element.append(toinsert);\n",
       "      return toinsert\n",
       "    }\n",
       "\n",
       "    /* Handle when an output is cleared or removed */\n",
       "    events.on('clear_output.CodeCell', handleClearOutput);\n",
       "    events.on('delete.Cell', handleClearOutput);\n",
       "\n",
       "    /* Handle when a new output is added */\n",
       "    events.on('output_added.OutputArea', handleAddOutput);\n",
       "\n",
       "    /**\n",
       "     * Register the mime type and append_mime function with output_area\n",
       "     */\n",
       "    OutputArea.prototype.register_mime_type(EXEC_MIME_TYPE, append_mime, {\n",
       "      /* Is output safe? */\n",
       "      safe: true,\n",
       "      /* Index of renderer in `output_area.display_order` */\n",
       "      index: 0\n",
       "    });\n",
       "  }\n",
       "\n",
       "  // register the mime type if in Jupyter Notebook environment and previously unregistered\n",
       "  if (root.Jupyter !== undefined) {\n",
       "    var events = require('base/js/events');\n",
       "    var OutputArea = require('notebook/js/outputarea').OutputArea;\n",
       "\n",
       "    if (OutputArea.prototype.mime_types().indexOf(EXEC_MIME_TYPE) == -1) {\n",
       "      register_renderer(events, OutputArea);\n",
       "    }\n",
       "  }\n",
       "\n",
       "  \n",
       "  if (typeof (root._bokeh_timeout) === \"undefined\" || force === true) {\n",
       "    root._bokeh_timeout = Date.now() + 5000;\n",
       "    root._bokeh_failed_load = false;\n",
       "  }\n",
       "\n",
       "  var NB_LOAD_WARNING = {'data': {'text/html':\n",
       "     \"<div style='background-color: #fdd'>\\n\"+\n",
       "     \"<p>\\n\"+\n",
       "     \"BokehJS does not appear to have successfully loaded. If loading BokehJS from CDN, this \\n\"+\n",
       "     \"may be due to a slow or bad network connection. Possible fixes:\\n\"+\n",
       "     \"</p>\\n\"+\n",
       "     \"<ul>\\n\"+\n",
       "     \"<li>re-rerun `output_notebook()` to attempt to load from CDN again, or</li>\\n\"+\n",
       "     \"<li>use INLINE resources instead, as so:</li>\\n\"+\n",
       "     \"</ul>\\n\"+\n",
       "     \"<code>\\n\"+\n",
       "     \"from bokeh.resources import INLINE\\n\"+\n",
       "     \"output_notebook(resources=INLINE)\\n\"+\n",
       "     \"</code>\\n\"+\n",
       "     \"</div>\"}};\n",
       "\n",
       "  function display_loaded() {\n",
       "    var el = document.getElementById(\"1001\");\n",
       "    if (el != null) {\n",
       "      el.textContent = \"BokehJS is loading...\";\n",
       "    }\n",
       "    if (root.Bokeh !== undefined) {\n",
       "      if (el != null) {\n",
       "        el.textContent = \"BokehJS \" + root.Bokeh.version + \" successfully loaded.\";\n",
       "      }\n",
       "    } else if (Date.now() < root._bokeh_timeout) {\n",
       "      setTimeout(display_loaded, 100)\n",
       "    }\n",
       "  }\n",
       "\n",
       "\n",
       "  function run_callbacks() {\n",
       "    try {\n",
       "      root._bokeh_onload_callbacks.forEach(function(callback) { callback() });\n",
       "    }\n",
       "    finally {\n",
       "      delete root._bokeh_onload_callbacks\n",
       "    }\n",
       "    console.info(\"Bokeh: all callbacks have finished\");\n",
       "  }\n",
       "\n",
       "  function load_libs(js_urls, callback) {\n",
       "    root._bokeh_onload_callbacks.push(callback);\n",
       "    if (root._bokeh_is_loading > 0) {\n",
       "      console.log(\"Bokeh: BokehJS is being loaded, scheduling callback at\", now());\n",
       "      return null;\n",
       "    }\n",
       "    if (js_urls == null || js_urls.length === 0) {\n",
       "      run_callbacks();\n",
       "      return null;\n",
       "    }\n",
       "    console.log(\"Bokeh: BokehJS not loaded, scheduling load and callback at\", now());\n",
       "    root._bokeh_is_loading = js_urls.length;\n",
       "    for (var i = 0; i < js_urls.length; i++) {\n",
       "      var url = js_urls[i];\n",
       "      var s = document.createElement('script');\n",
       "      s.src = url;\n",
       "      s.async = false;\n",
       "      s.onreadystatechange = s.onload = function() {\n",
       "        root._bokeh_is_loading--;\n",
       "        if (root._bokeh_is_loading === 0) {\n",
       "          console.log(\"Bokeh: all BokehJS libraries loaded\");\n",
       "          run_callbacks()\n",
       "        }\n",
       "      };\n",
       "      s.onerror = function() {\n",
       "        console.warn(\"failed to load library \" + url);\n",
       "      };\n",
       "      console.log(\"Bokeh: injecting script tag for BokehJS library: \", url);\n",
       "      document.getElementsByTagName(\"head\")[0].appendChild(s);\n",
       "    }\n",
       "  };var element = document.getElementById(\"1001\");\n",
       "  if (element == null) {\n",
       "    console.log(\"Bokeh: ERROR: autoload.js configured with elementid '1001' but no matching script tag was found. \")\n",
       "    return false;\n",
       "  }\n",
       "\n",
       "  var js_urls = [\"https://cdn.pydata.org/bokeh/release/bokeh-1.0.1.min.js\", \"https://cdn.pydata.org/bokeh/release/bokeh-widgets-1.0.1.min.js\", \"https://cdn.pydata.org/bokeh/release/bokeh-tables-1.0.1.min.js\", \"https://cdn.pydata.org/bokeh/release/bokeh-gl-1.0.1.min.js\"];\n",
       "\n",
       "  var inline_js = [\n",
       "    function(Bokeh) {\n",
       "      Bokeh.set_log_level(\"info\");\n",
       "    },\n",
       "    \n",
       "    function(Bokeh) {\n",
       "      \n",
       "    },\n",
       "    function(Bokeh) {\n",
       "      console.log(\"Bokeh: injecting CSS: https://cdn.pydata.org/bokeh/release/bokeh-1.0.1.min.css\");\n",
       "      Bokeh.embed.inject_css(\"https://cdn.pydata.org/bokeh/release/bokeh-1.0.1.min.css\");\n",
       "      console.log(\"Bokeh: injecting CSS: https://cdn.pydata.org/bokeh/release/bokeh-widgets-1.0.1.min.css\");\n",
       "      Bokeh.embed.inject_css(\"https://cdn.pydata.org/bokeh/release/bokeh-widgets-1.0.1.min.css\");\n",
       "      console.log(\"Bokeh: injecting CSS: https://cdn.pydata.org/bokeh/release/bokeh-tables-1.0.1.min.css\");\n",
       "      Bokeh.embed.inject_css(\"https://cdn.pydata.org/bokeh/release/bokeh-tables-1.0.1.min.css\");\n",
       "    }\n",
       "  ];\n",
       "\n",
       "  function run_inline_js() {\n",
       "    \n",
       "    if ((root.Bokeh !== undefined) || (force === true)) {\n",
       "      for (var i = 0; i < inline_js.length; i++) {\n",
       "        inline_js[i].call(root, root.Bokeh);\n",
       "      }if (force === true) {\n",
       "        display_loaded();\n",
       "      }} else if (Date.now() < root._bokeh_timeout) {\n",
       "      setTimeout(run_inline_js, 100);\n",
       "    } else if (!root._bokeh_failed_load) {\n",
       "      console.log(\"Bokeh: BokehJS failed to load within specified timeout.\");\n",
       "      root._bokeh_failed_load = true;\n",
       "    } else if (force !== true) {\n",
       "      var cell = $(document.getElementById(\"1001\")).parents('.cell').data().cell;\n",
       "      cell.output_area.append_execute_result(NB_LOAD_WARNING)\n",
       "    }\n",
       "\n",
       "  }\n",
       "\n",
       "  if (root._bokeh_is_loading === 0) {\n",
       "    console.log(\"Bokeh: BokehJS loaded, going straight to plotting\");\n",
       "    run_inline_js();\n",
       "  } else {\n",
       "    load_libs(js_urls, function() {\n",
       "      console.log(\"Bokeh: BokehJS plotting callback run at\", now());\n",
       "      run_inline_js();\n",
       "    });\n",
       "  }\n",
       "}(window));"
      ],
      "application/vnd.bokehjs_load.v0+json": "\n(function(root) {\n  function now() {\n    return new Date();\n  }\n\n  var force = true;\n\n  if (typeof (root._bokeh_onload_callbacks) === \"undefined\" || force === true) {\n    root._bokeh_onload_callbacks = [];\n    root._bokeh_is_loading = undefined;\n  }\n\n  \n\n  \n  if (typeof (root._bokeh_timeout) === \"undefined\" || force === true) {\n    root._bokeh_timeout = Date.now() + 5000;\n    root._bokeh_failed_load = false;\n  }\n\n  var NB_LOAD_WARNING = {'data': {'text/html':\n     \"<div style='background-color: #fdd'>\\n\"+\n     \"<p>\\n\"+\n     \"BokehJS does not appear to have successfully loaded. If loading BokehJS from CDN, this \\n\"+\n     \"may be due to a slow or bad network connection. Possible fixes:\\n\"+\n     \"</p>\\n\"+\n     \"<ul>\\n\"+\n     \"<li>re-rerun `output_notebook()` to attempt to load from CDN again, or</li>\\n\"+\n     \"<li>use INLINE resources instead, as so:</li>\\n\"+\n     \"</ul>\\n\"+\n     \"<code>\\n\"+\n     \"from bokeh.resources import INLINE\\n\"+\n     \"output_notebook(resources=INLINE)\\n\"+\n     \"</code>\\n\"+\n     \"</div>\"}};\n\n  function display_loaded() {\n    var el = document.getElementById(\"1001\");\n    if (el != null) {\n      el.textContent = \"BokehJS is loading...\";\n    }\n    if (root.Bokeh !== undefined) {\n      if (el != null) {\n        el.textContent = \"BokehJS \" + root.Bokeh.version + \" successfully loaded.\";\n      }\n    } else if (Date.now() < root._bokeh_timeout) {\n      setTimeout(display_loaded, 100)\n    }\n  }\n\n\n  function run_callbacks() {\n    try {\n      root._bokeh_onload_callbacks.forEach(function(callback) { callback() });\n    }\n    finally {\n      delete root._bokeh_onload_callbacks\n    }\n    console.info(\"Bokeh: all callbacks have finished\");\n  }\n\n  function load_libs(js_urls, callback) {\n    root._bokeh_onload_callbacks.push(callback);\n    if (root._bokeh_is_loading > 0) {\n      console.log(\"Bokeh: BokehJS is being loaded, scheduling callback at\", now());\n      return null;\n    }\n    if (js_urls == null || js_urls.length === 0) {\n      run_callbacks();\n      return null;\n    }\n    console.log(\"Bokeh: BokehJS not loaded, scheduling load and callback at\", now());\n    root._bokeh_is_loading = js_urls.length;\n    for (var i = 0; i < js_urls.length; i++) {\n      var url = js_urls[i];\n      var s = document.createElement('script');\n      s.src = url;\n      s.async = false;\n      s.onreadystatechange = s.onload = function() {\n        root._bokeh_is_loading--;\n        if (root._bokeh_is_loading === 0) {\n          console.log(\"Bokeh: all BokehJS libraries loaded\");\n          run_callbacks()\n        }\n      };\n      s.onerror = function() {\n        console.warn(\"failed to load library \" + url);\n      };\n      console.log(\"Bokeh: injecting script tag for BokehJS library: \", url);\n      document.getElementsByTagName(\"head\")[0].appendChild(s);\n    }\n  };var element = document.getElementById(\"1001\");\n  if (element == null) {\n    console.log(\"Bokeh: ERROR: autoload.js configured with elementid '1001' but no matching script tag was found. \")\n    return false;\n  }\n\n  var js_urls = [\"https://cdn.pydata.org/bokeh/release/bokeh-1.0.1.min.js\", \"https://cdn.pydata.org/bokeh/release/bokeh-widgets-1.0.1.min.js\", \"https://cdn.pydata.org/bokeh/release/bokeh-tables-1.0.1.min.js\", \"https://cdn.pydata.org/bokeh/release/bokeh-gl-1.0.1.min.js\"];\n\n  var inline_js = [\n    function(Bokeh) {\n      Bokeh.set_log_level(\"info\");\n    },\n    \n    function(Bokeh) {\n      \n    },\n    function(Bokeh) {\n      console.log(\"Bokeh: injecting CSS: https://cdn.pydata.org/bokeh/release/bokeh-1.0.1.min.css\");\n      Bokeh.embed.inject_css(\"https://cdn.pydata.org/bokeh/release/bokeh-1.0.1.min.css\");\n      console.log(\"Bokeh: injecting CSS: https://cdn.pydata.org/bokeh/release/bokeh-widgets-1.0.1.min.css\");\n      Bokeh.embed.inject_css(\"https://cdn.pydata.org/bokeh/release/bokeh-widgets-1.0.1.min.css\");\n      console.log(\"Bokeh: injecting CSS: https://cdn.pydata.org/bokeh/release/bokeh-tables-1.0.1.min.css\");\n      Bokeh.embed.inject_css(\"https://cdn.pydata.org/bokeh/release/bokeh-tables-1.0.1.min.css\");\n    }\n  ];\n\n  function run_inline_js() {\n    \n    if ((root.Bokeh !== undefined) || (force === true)) {\n      for (var i = 0; i < inline_js.length; i++) {\n        inline_js[i].call(root, root.Bokeh);\n      }if (force === true) {\n        display_loaded();\n      }} else if (Date.now() < root._bokeh_timeout) {\n      setTimeout(run_inline_js, 100);\n    } else if (!root._bokeh_failed_load) {\n      console.log(\"Bokeh: BokehJS failed to load within specified timeout.\");\n      root._bokeh_failed_load = true;\n    } else if (force !== true) {\n      var cell = $(document.getElementById(\"1001\")).parents('.cell').data().cell;\n      cell.output_area.append_execute_result(NB_LOAD_WARNING)\n    }\n\n  }\n\n  if (root._bokeh_is_loading === 0) {\n    console.log(\"Bokeh: BokehJS loaded, going straight to plotting\");\n    run_inline_js();\n  } else {\n    load_libs(js_urls, function() {\n      console.log(\"Bokeh: BokehJS plotting callback run at\", now());\n      run_inline_js();\n    });\n  }\n}(window));"
     },
     "metadata": {},
     "output_type": "display_data"
    }
   ],
   "source": [
    "from influxdb import InfluxDBClient\n",
    "import pandas as pd\n",
    "from bokeh.models import HoverTool, ColumnDataSource, BoxZoomTool\n",
    "from bokeh.models.ranges import Range1d\n",
    "from bokeh.models.axes import LinearAxis\n",
    "from bokeh.layouts import gridplot\n",
    "from bokeh.plotting import figure, show, output_file\n",
    "from bokeh.io import output_notebook\n",
    "import talib\n",
    "import seaborn as sns\n",
    "import matplotlib.pyplot as plt\n",
    "from datetime import datetime as dt\n",
    "output_notebook()\n",
    "%matplotlib inline\n",
    "sns.set()"
   ]
  },
  {
   "cell_type": "code",
   "execution_count": 2,
   "metadata": {},
   "outputs": [
    {
     "data": {
      "text/html": [
       "<div>\n",
       "<style scoped>\n",
       "    .dataframe tbody tr th:only-of-type {\n",
       "        vertical-align: middle;\n",
       "    }\n",
       "\n",
       "    .dataframe tbody tr th {\n",
       "        vertical-align: top;\n",
       "    }\n",
       "\n",
       "    .dataframe thead th {\n",
       "        text-align: right;\n",
       "    }\n",
       "</style>\n",
       "<table border=\"1\" class=\"dataframe\">\n",
       "  <thead>\n",
       "    <tr style=\"text-align: right;\">\n",
       "      <th></th>\n",
       "      <th>spread</th>\n",
       "    </tr>\n",
       "    <tr>\n",
       "      <th>time</th>\n",
       "      <th></th>\n",
       "    </tr>\n",
       "  </thead>\n",
       "  <tbody>\n",
       "    <tr>\n",
       "      <th>2018-12-04 09:00:00</th>\n",
       "      <td>0.00063</td>\n",
       "    </tr>\n",
       "    <tr>\n",
       "      <th>2018-12-04 09:01:00</th>\n",
       "      <td>0.00034</td>\n",
       "    </tr>\n",
       "    <tr>\n",
       "      <th>2018-12-04 09:02:00</th>\n",
       "      <td>0.00025</td>\n",
       "    </tr>\n",
       "    <tr>\n",
       "      <th>2018-12-04 09:03:00</th>\n",
       "      <td>0.00028</td>\n",
       "    </tr>\n",
       "    <tr>\n",
       "      <th>2018-12-04 09:04:00</th>\n",
       "      <td>0.00032</td>\n",
       "    </tr>\n",
       "  </tbody>\n",
       "</table>\n",
       "</div>"
      ],
      "text/plain": [
       "                      spread\n",
       "time                        \n",
       "2018-12-04 09:00:00  0.00063\n",
       "2018-12-04 09:01:00  0.00034\n",
       "2018-12-04 09:02:00  0.00025\n",
       "2018-12-04 09:03:00  0.00028\n",
       "2018-12-04 09:04:00  0.00032"
      ]
     },
     "execution_count": 2,
     "metadata": {},
     "output_type": "execute_result"
    }
   ],
   "source": [
    "db = InfluxDBClient('104.248.41.39', 8086, 'admin', 'jndm4jr5jndm4jr6', 'darwinex')\n",
    "#################\n",
    "ticker = 'EURUSD'\n",
    "start = dt(2018,12,4,9,0)\n",
    "end = dt(2018,12,5,9,0)\n",
    "start_epoch = int(float(start.timestamp())) * 1000 * 1000 * 1000\n",
    "end_epoch = int(end.timestamp()) * 1000 * 1000 * 1000\n",
    "freq='1m'\n",
    "query = \"Select spread(price) from {} where time > {} and time < {} group by time({})\".format(ticker, str(start_epoch), str(end_epoch), freq)\n",
    "#################\n",
    "\n",
    "def influx_to_pandas(result):\n",
    "    df = pd.DataFrame(result, )\n",
    "    df.index = pd.to_datetime(df['time'])\n",
    "  \n",
    "    return df.drop(['time'], axis=1)\n",
    "\n",
    "result = list(db.query(query))[0]\n",
    "df = influx_to_pandas(result).dropna()\n",
    "\n",
    "df.head()"
   ]
  },
  {
   "cell_type": "code",
   "execution_count": 3,
   "metadata": {},
   "outputs": [
    {
     "data": {
      "text/plain": [
       "<matplotlib.axes._subplots.AxesSubplot at 0x1f1bc52ec50>"
      ]
     },
     "execution_count": 3,
     "metadata": {},
     "output_type": "execute_result"
    },
    {
     "data": {
      "text/plain": [
       "<Figure size 1080x360 with 0 Axes>"
      ]
     },
     "metadata": {},
     "output_type": "display_data"
    },
    {
     "data": {
      "image/png": "[encoded data removed]",
      "text/plain": [
       "<Figure size 432x288 with 1 Axes>"
      ]
     },
     "metadata": {},
     "output_type": "display_data"
    }
   ],
   "source": [
    "plt.figure(figsize=(15,5))\n",
    "df.plot()\n",
    "\n"
   ]
  },
  {
   "cell_type": "code",
   "execution_count": 4,
   "metadata": {},
   "outputs": [
    {
     "name": "stdout",
     "output_type": "stream",
     "text": [
      "                      spread\n",
      "time                        \n",
      "2018-12-04 09:00:00  0.00010\n",
      "2018-12-04 09:01:00  0.00009\n",
      "2018-12-04 09:02:00  0.00008\n",
      "2018-12-04 09:03:00  0.00010\n",
      "2018-12-04 09:04:00  0.00010\n"
     ]
    }
   ],
   "source": [
    "db = InfluxDBClient('104.248.41.39', 8086, 'admin', 'jndm4jr5jndm4jr6', 'darwinex')\n",
    "#################\n",
    "ticker = 'EURCHF'\n",
    "start = dt(2018,12,4,9,0)\n",
    "end = dt(2018,12,5,9,0)\n",
    "start_epoch = int(float(start.timestamp())) * 1000 * 1000 * 1000\n",
    "end_epoch = int(end.timestamp()) * 1000 * 1000 * 1000\n",
    "freq='1m'\n",
    "queryask = \"Select last(price) from {} where time > {} and time < {} and quote = 'ask' group by time({})\".format(ticker, str(start_epoch), str(end_epoch), freq)\n",
    "querybid = \"Select last(price) from {} where time > {} and time < {} and quote = 'bid' group by time({})\".format(ticker, str(start_epoch), str(end_epoch), freq)\n",
    "\n",
    "#################\n",
    "\n",
    "def influx_to_pandas(result):\n",
    "    df = pd.DataFrame(result, )\n",
    "    df.index = pd.to_datetime(df['time'])\n",
    "  \n",
    "    return df.drop(['time'], axis=1)\n",
    "\n",
    "result = list(db.query(queryask))[0]\n",
    "dfask = influx_to_pandas(result)\n",
    "\n",
    "result = list(db.query(querybid))[0]\n",
    "dfbid = influx_to_pandas(result)\n",
    "spread = pd.DataFrame()\n",
    "spread['spread'] = dfask['last'] - dfbid['last']\n",
    "print(spread.head())"
   ]
  },
  {
   "cell_type": "code",
   "execution_count": 5,
   "metadata": {},
   "outputs": [
    {
     "data": {
      "text/plain": [
       "<matplotlib.axes._subplots.AxesSubplot at 0x1f1bc650be0>"
      ]
     },
     "execution_count": 5,
     "metadata": {},
     "output_type": "execute_result"
    },
    {
     "data": {
      "text/plain": [
       "<Figure size 1080x3600 with 0 Axes>"
      ]
     },
     "metadata": {},
     "output_type": "display_data"
    },
    {
     "data": {
      "image/png": "[encoded data removed]",
      "text/plain": [
       "<Figure size 432x288 with 1 Axes>"
      ]
     },
     "metadata": {},
     "output_type": "display_data"
    }
   ],
   "source": [
    "plt.figure(figsize=(15,50))\n",
    "spread.plot()\n"
   ]
  },
  {
   "cell_type": "code",
   "execution_count": 6,
   "metadata": {},
   "outputs": [
    {
     "data": {
      "text/html": [
       "\n",
       "\n",
       "\n",
       "\n",
       "\n",
       "\n",
       "  <div class=\"bk-root\" id=\"54d9680c-8009-43b7-9975-d9fdf2b26897\"></div>\n"
      ]
     },
     "metadata": {},
     "output_type": "display_data"
    },
    {
     "data": {
      "application/javascript": [
       "(function(root) {\n",
       "  function embed_document(root) {\n",
       "    \n",
       "  var docs_json = {\"30837767-37a2-4a74-9acb-b05296f32e44\":{\"roots\":{\"references\":[{\"attributes\":{\"below\":[{\"id\":\"1013\",\"type\":\"DatetimeAxis\"}],\"left\":[{\"id\":\"1018\",\"type\":\"LinearAxis\"}],\"plot_width\":700,\"renderers\":[{\"id\":\"1013\",\"type\":\"DatetimeAxis\"},{\"id\":\"1017\",\"type\":\"Grid\"},{\"id\":\"1018\",\"type\":\"LinearAxis\"},{\"id\":\"1022\",\"type\":\"Grid\"},{\"id\":\"1029\",\"type\":\"BoxAnnotation\"},{\"id\":\"1059\",\"type\":\"Legend\"},{\"id\":\"1039\",\"type\":\"GlyphRenderer\"}],\"title\":{\"id\":\"1002\",\"type\":\"Title\"},\"toolbar\":{\"id\":\"1028\",\"type\":\"Toolbar\"},\"x_range\":{\"id\":\"1005\",\"type\":\"DataRange1d\"},\"x_scale\":{\"id\":\"1009\",\"type\":\"LinearScale\"},\"y_range\":{\"id\":\"1007\",\"type\":\"DataRange1d\"},\"y_scale\":{\"id\":\"1011\",\"type\":\"LinearScale\"}},\"id\":\"1003\",\"subtype\":\"Figure\",\"type\":\"Plot\"},{\"attributes\":{\"base\":60,\"mantissas\":[1,2,5,10,15,20,30],\"max_interval\":1800000.0,\"min_interval\":1000.0,\"num_minor_ticks\":0},\"id\":\"1048\",\"type\":\"AdaptiveTicker\"},{\"attributes\":{},\"id\":\"1026\",\"type\":\"ZoomOutTool\"},{\"attributes\":{\"base\":24,\"mantissas\":[1,2,4,6,8,12],\"max_interval\":43200000.0,\"min_interval\":3600000.0,\"num_minor_ticks\":0},\"id\":\"1049\",\"type\":\"AdaptiveTicker\"},{\"attributes\":{\"plot\":{\"id\":\"1003\",\"subtype\":\"Figure\",\"type\":\"Plot\"},\"ticker\":{\"id\":\"1014\",\"type\":\"DatetimeTicker\"}},\"id\":\"1017\",\"type\":\"Grid\"},{\"attributes\":{\"days\":[1,2,3,4,5,6,7,8,9,10,11,12,13,14,15,16,17,18,19,20,21,22,23,24,25,26,27,28,29,30,31]},\"id\":\"1050\",\"type\":\"DaysTicker\"},{\"attributes\":{\"active_drag\":\"auto\",\"active_inspect\":\"auto\",\"active_multi\":null,\"active_scroll\":\"auto\",\"active_tap\":\"auto\",\"tools\":[{\"id\":\"1023\",\"type\":\"ResetTool\"},{\"id\":\"1024\",\"type\":\"BoxSelectTool\"},{\"id\":\"1025\",\"type\":\"PanTool\"},{\"id\":\"1026\",\"type\":\"ZoomOutTool\"},{\"id\":\"1027\",\"type\":\"WheelZoomTool\"}]},\"id\":\"1028\",\"type\":\"Toolbar\"},{\"attributes\":{},\"id\":\"1009\",\"type\":\"LinearScale\"},{\"attributes\":{},\"id\":\"1025\",\"type\":\"PanTool\"},{\"attributes\":{\"formatter\":{\"id\":\"1045\",\"type\":\"BasicTickFormatter\"},\"plot\":{\"id\":\"1003\",\"subtype\":\"Figure\",\"type\":\"Plot\"},\"ticker\":{\"id\":\"1019\",\"type\":\"BasicTicker\"}},\"id\":\"1018\",\"type\":\"LinearAxis\"},{\"attributes\":{\"days\":[1,15]},\"id\":\"1053\",\"type\":\"DaysTicker\"},{\"attributes\":{\"source\":{\"id\":\"1036\",\"type\":\"ColumnDataSource\"}},\"id\":\"1040\",\"type\":\"CDSView\"},{\"attributes\":{\"formatter\":{\"id\":\"1043\",\"type\":\"DatetimeTickFormatter\"},\"plot\":{\"id\":\"1003\",\"subtype\":\"Figure\",\"type\":\"Plot\"},\"ticker\":{\"id\":\"1014\",\"type\":\"DatetimeTicker\"}},\"id\":\"1013\",\"type\":\"DatetimeAxis\"},{\"attributes\":{},\"id\":\"1023\",\"type\":\"ResetTool\"},{\"attributes\":{\"months\":[0,2,4,6,8,10]},\"id\":\"1055\",\"type\":\"MonthsTicker\"},{\"attributes\":{\"callback\":null,\"overlay\":{\"id\":\"1029\",\"type\":\"BoxAnnotation\"}},\"id\":\"1024\",\"type\":\"BoxSelectTool\"},{\"attributes\":{\"label\":{\"value\":\"spread\"},\"renderers\":[{\"id\":\"1039\",\"type\":\"GlyphRenderer\"}]},\"id\":\"1060\",\"type\":\"LegendItem\"},{\"attributes\":{\"months\":[0,1,2,3,4,5,6,7,8,9,10,11]},\"id\":\"1054\",\"type\":\"MonthsTicker\"},{\"attributes\":{},\"id\":\"1058\",\"type\":\"YearsTicker\"},{\"attributes\":{\"plot\":null,\"text\":\"EURCHF\"},\"id\":\"1002\",\"type\":\"Title\"},{\"attributes\":{},\"id\":\"1043\",\"type\":\"DatetimeTickFormatter\"},{\"attributes\":{\"callback\":null},\"id\":\"1007\",\"type\":\"DataRange1d\"},{\"attributes\":{\"callback\":null},\"id\":\"1005\",\"type\":\"DataRange1d\"},{\"attributes\":{},\"id\":\"1080\",\"type\":\"Selection\"},{\"attributes\":{\"data_source\":{\"id\":\"1036\",\"type\":\"ColumnDataSource\"},\"glyph\":{\"id\":\"1037\",\"type\":\"Line\"},\"hover_glyph\":null,\"muted_glyph\":null,\"nonselection_glyph\":{\"id\":\"1038\",\"type\":\"Line\"},\"selection_glyph\":null,\"view\":{\"id\":\"1040\",\"type\":\"CDSView\"}},\"id\":\"1039\",\"type\":\"GlyphRenderer\"},{\"attributes\":{\"num_minor_ticks\":5,\"tickers\":[{\"id\":\"1047\",\"type\":\"AdaptiveTicker\"},{\"id\":\"1048\",\"type\":\"AdaptiveTicker\"},{\"id\":\"1049\",\"type\":\"AdaptiveTicker\"},{\"id\":\"1050\",\"type\":\"DaysTicker\"},{\"id\":\"1051\",\"type\":\"DaysTicker\"},{\"id\":\"1052\",\"type\":\"DaysTicker\"},{\"id\":\"1053\",\"type\":\"DaysTicker\"},{\"id\":\"1054\",\"type\":\"MonthsTicker\"},{\"id\":\"1055\",\"type\":\"MonthsTicker\"},{\"id\":\"1056\",\"type\":\"MonthsTicker\"},{\"id\":\"1057\",\"type\":\"MonthsTicker\"},{\"id\":\"1058\",\"type\":\"YearsTicker\"}]},\"id\":\"1014\",\"type\":\"DatetimeTicker\"},{\"attributes\":{\"days\":[1,8,15,22]},\"id\":\"1052\",\"type\":\"DaysTicker\"},{\"attributes\":{},\"id\":\"1079\",\"type\":\"UnionRenderers\"},{\"attributes\":{\"bottom_units\":\"screen\",\"fill_alpha\":{\"value\":0.5},\"fill_color\":{\"value\":\"lightgrey\"},\"left_units\":\"screen\",\"level\":\"overlay\",\"line_alpha\":{\"value\":1.0},\"line_color\":{\"value\":\"black\"},\"line_dash\":[4,4],\"line_width\":{\"value\":2},\"plot\":null,\"render_mode\":\"css\",\"right_units\":\"screen\",\"top_units\":\"screen\"},\"id\":\"1029\",\"type\":\"BoxAnnotation\"},{\"attributes\":{},\"id\":\"1027\",\"type\":\"WheelZoomTool\"},{\"attributes\":{},\"id\":\"1011\",\"type\":\"LinearScale\"},{\"attributes\":{},\"id\":\"1019\",\"type\":\"BasicTicker\"},{\"attributes\":{\"line_color\":\"green\",\"x\":{\"field\":\"x\"},\"y\":{\"field\":\"y\"}},\"id\":\"1037\",\"type\":\"Line\"},{\"attributes\":{},\"id\":\"1045\",\"type\":\"BasicTickFormatter\"},{\"attributes\":{\"months\":[0,4,8]},\"id\":\"1056\",\"type\":\"MonthsTicker\"},{\"attributes\":{\"line_alpha\":0.1,\"line_color\":\"#1f77b4\",\"x\":{\"field\":\"x\"},\"y\":{\"field\":\"y\"}},\"id\":\"1038\",\"type\":\"Line\"},{\"attributes\":{\"mantissas\":[1,2,5],\"max_interval\":500.0,\"num_minor_ticks\":0},\"id\":\"1047\",\"type\":\"AdaptiveTicker\"},{\"attributes\":{\"dimension\":1,\"plot\":{\"id\":\"1003\",\"subtype\":\"Figure\",\"type\":\"Plot\"},\"ticker\":{\"id\":\"1019\",\"type\":\"BasicTicker\"}},\"id\":\"1022\",\"type\":\"Grid\"},{\"attributes\":{\"items\":[{\"id\":\"1060\",\"type\":\"LegendItem\"}],\"plot\":{\"id\":\"1003\",\"subtype\":\"Figure\",\"type\":\"Plot\"}},\"id\":\"1059\",\"type\":\"Legend\"},{\"attributes\":{\"callback\":null,\"data\":{\"x\":{\"__ndarray__\":\"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\",\"dtype\":\"float64\",\"shape\":[1427]},\"y\":{\"__ndarray__\":\"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\",\"dtype\":\"float64\",\"shape\":[1427]}},\"selected\":{\"id\":\"1080\",\"type\":\"Selection\"},\"selection_policy\":{\"id\":\"1079\",\"type\":\"UnionRenderers\"}},\"id\":\"1036\",\"type\":\"ColumnDataSource\"},{\"attributes\":{\"months\":[0,6]},\"id\":\"1057\",\"type\":\"MonthsTicker\"},{\"attributes\":{\"days\":[1,4,7,10,13,16,19,22,25,28]},\"id\":\"1051\",\"type\":\"DaysTicker\"}],\"root_ids\":[\"1003\"]},\"title\":\"Bokeh Application\",\"version\":\"1.0.1\"}};\n",
       "  var render_items = [{\"docid\":\"30837767-37a2-4a74-9acb-b05296f32e44\",\"roots\":{\"1003\":\"54d9680c-8009-43b7-9975-d9fdf2b26897\"}}];\n",
       "  root.Bokeh.embed.embed_items_notebook(docs_json, render_items);\n",
       "\n",
       "  }\n",
       "  if (root.Bokeh !== undefined) {\n",
       "    embed_document(root);\n",
       "  } else {\n",
       "    var attempts = 0;\n",
       "    var timer = setInterval(function(root) {\n",
       "      if (root.Bokeh !== undefined) {\n",
       "        embed_document(root);\n",
       "        clearInterval(timer);\n",
       "      }\n",
       "      attempts++;\n",
       "      if (attempts > 100) {\n",
       "        console.log(\"Bokeh: ERROR: Unable to run BokehJS code because BokehJS library is missing\");\n",
       "        clearInterval(timer);\n",
       "      }\n",
       "    }, 10, root)\n",
       "  }\n",
       "})(window);"
      ],
      "application/vnd.bokehjs_exec.v0+json": ""
     },
     "metadata": {
      "application/vnd.bokehjs_exec.v0+json": {
       "id": "1003"
      }
     },
     "output_type": "display_data"
    }
   ],
   "source": [
    "tools = ['reset', 'box_select', 'pan', 'zoom_out', 'wheel_zoom']\n",
    "\n",
    "p1 = figure(tools=tools, x_axis_type=\"datetime\", title=ticker, plot_width=700)\n",
    "\n",
    "p1.line(df.index.values, df[df.columns[0]].values, color='green', legend=df.columns[0])\n",
    "show(p1)"
   ]
  },
  {
   "cell_type": "code",
   "execution_count": 7,
   "metadata": {},
   "outputs": [
    {
     "ename": "NameError",
     "evalue": "name 'S' is not defined",
     "output_type": "error",
     "traceback": [
      "\u001b[1;31m---------------------------------------------------------------------------\u001b[0m",
      "\u001b[1;31mNameError\u001b[0m                                 Traceback (most recent call last)",
      "\u001b[1;32m<ipython-input-7-2585d491b11a>\u001b[0m in \u001b[0;36m<module>\u001b[1;34m()\u001b[0m\n\u001b[0;32m      1\u001b[0m \u001b[0mtime\u001b[0m \u001b[1;33m=\u001b[0m \u001b[1;33m[\u001b[0m\u001b[1;36m1.5\u001b[0m\u001b[1;33m,\u001b[0m \u001b[1;36m1\u001b[0m\u001b[1;33m,\u001b[0m \u001b[1;36m0.5\u001b[0m\u001b[1;33m,\u001b[0m \u001b[1;36m0.01\u001b[0m\u001b[1;33m]\u001b[0m\u001b[1;33m\u001b[0m\u001b[0m\n\u001b[0;32m      2\u001b[0m \u001b[0mfig\u001b[0m\u001b[1;33m,\u001b[0m \u001b[0max\u001b[0m \u001b[1;33m=\u001b[0m \u001b[0mplt\u001b[0m\u001b[1;33m.\u001b[0m\u001b[0msubplots\u001b[0m\u001b[1;33m(\u001b[0m\u001b[1;36m1\u001b[0m\u001b[1;33m,\u001b[0m \u001b[0mlen\u001b[0m\u001b[1;33m(\u001b[0m\u001b[0mtime\u001b[0m\u001b[1;33m)\u001b[0m\u001b[1;33m,\u001b[0m \u001b[0mfigsize\u001b[0m\u001b[1;33m=\u001b[0m\u001b[1;33m(\u001b[0m\u001b[1;36m20\u001b[0m\u001b[1;33m,\u001b[0m\u001b[1;36m5\u001b[0m\u001b[1;33m)\u001b[0m\u001b[1;33m)\u001b[0m\u001b[1;33m\u001b[0m\u001b[0m\n\u001b[1;32m----> 3\u001b[1;33m \u001b[0mintrinsicValue\u001b[0m \u001b[1;33m=\u001b[0m \u001b[1;33m[\u001b[0m\u001b[0mmax\u001b[0m\u001b[1;33m(\u001b[0m\u001b[0ms\u001b[0m \u001b[1;33m-\u001b[0m \u001b[0mK\u001b[0m\u001b[1;33m,\u001b[0m \u001b[1;36m0\u001b[0m\u001b[1;33m)\u001b[0m \u001b[1;32mfor\u001b[0m \u001b[0ms\u001b[0m \u001b[1;32min\u001b[0m \u001b[0mS\u001b[0m\u001b[1;33m]\u001b[0m\u001b[1;33m\u001b[0m\u001b[0m\n\u001b[0m\u001b[0;32m      4\u001b[0m \u001b[1;32mfor\u001b[0m \u001b[0mi\u001b[0m\u001b[1;33m,\u001b[0m \u001b[0mT\u001b[0m \u001b[1;32min\u001b[0m \u001b[0menumerate\u001b[0m\u001b[1;33m(\u001b[0m\u001b[0mtime\u001b[0m\u001b[1;33m)\u001b[0m\u001b[1;33m:\u001b[0m\u001b[1;33m\u001b[0m\u001b[0m\n\u001b[0;32m      5\u001b[0m     \u001b[0moptionValue\u001b[0m \u001b[1;33m=\u001b[0m \u001b[0mlist\u001b[0m\u001b[1;33m(\u001b[0m\u001b[0mmap\u001b[0m\u001b[1;33m(\u001b[0m\u001b[0mop\u001b[0m\u001b[1;33m,\u001b[0m \u001b[0mS\u001b[0m\u001b[1;33m)\u001b[0m\u001b[1;33m)\u001b[0m\u001b[1;33m\u001b[0m\u001b[0m\n",
      "\u001b[1;31mNameError\u001b[0m: name 'S' is not defined"
     ]
    },
    {
     "data": {
      "image/png": "[encoded data removed]",
      "text/plain": [
       "<Figure size 1440x360 with 4 Axes>"
      ]
     },
     "metadata": {},
     "output_type": "display_data"
    }
   ],
   "source": [
    "time = [1.5, 1, 0.5, 0.01]\n",
    "fig, ax = plt.subplots(1, len(time), figsize=(20,5))\n",
    "intrinsicValue = [max(s - K, 0) for s in S]\n",
    "for i, T in enumerate(time):\n",
    "    optionValue = list(map(op, S))\n",
    "    ax[i].plot(S, optionValue, label=\"Option Value\")\n",
    "    ax[i].plot(S, intrinsicValue, label=\"Instrinsic Value\")\n",
    "    ax[i].fill_between(S, intrinsicValue, optionValue, alpha=0.2, label=\"Time Value\")\n",
    "    ax[i].set_title('Time to maturity {}'.format(T))\n",
    "    ax[i].legend()"
   ]
  },
  {
   "cell_type": "code",
   "execution_count": null,
   "metadata": {},
   "outputs": [],
   "source": [
    "plt.figure(figsize=(10,6))\n",
    "S = np.linspace(70, 120)\n",
    "op = lambda S: bs(S, K, vol, r, T, True)\n",
    "\n",
    "time = np.linspace(1, 0.000001, 6)\n",
    "for T in time:\n",
    "    optionValue = list(map(op, S))\n",
    "    plt.plot(S, optionValue, label=\"t={:.2f}\".format(T))\n",
    "plt.legend();"
   ]
  }
 ],
 "metadata": {
  "kernelspec": {
   "display_name": "Python 3",
   "language": "python",
   "name": "python3"
  },
  "language_info": {
   "codemirror_mode": {
    "name": "ipython",
    "version": 3
   },
   "file_extension": ".py",
   "mimetype": "text/x-python",
   "name": "python",
   "nbconvert_exporter": "python",
   "pygments_lexer": "ipython3",
   "version": "3.6.5"
  }
 },
 "nbformat": 4,
 "nbformat_minor": 2
}
